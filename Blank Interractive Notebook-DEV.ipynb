{
 "cells": [
  {
   "cell_type": "markdown",
   "metadata": {},
   "source": [
    "<center><h1> Blank Interractive Notebook </h1> </center>"
   ]
  },
  {
   "cell_type": "markdown",
   "metadata": {},
   "source": [
    "<img src='pictures/StandardCrossIndustry.png'>"
   ]
  },
  {
   "cell_type": "code",
   "execution_count": 2,
   "metadata": {
    "collapsed": false
   },
   "outputs": [
    {
     "name": "stderr",
     "output_type": "stream",
     "text": [
      "C:\\Users\\Noam\\Anaconda3\\lib\\site-packages\\IPython\\html.py:14: ShimWarning: The `IPython.html` package has been deprecated. You should import from `notebook` instead. `IPython.html.widgets` has moved to `ipywidgets`.\n",
      "  \"`IPython.html.widgets` has moved to `ipywidgets`.\", ShimWarning)\n"
     ]
    },
    {
     "data": {
      "text/html": [
       "<style>.container { width:80% !important; }</style>"
      ],
      "text/plain": [
       "<IPython.core.display.HTML object>"
      ]
     },
     "metadata": {},
     "output_type": "display_data"
    },
    {
     "data": {
      "application/javascript": [
       "IPython.notebook.set_autosave_interval(60000)"
      ]
     },
     "metadata": {},
     "output_type": "display_data"
    },
    {
     "name": "stdout",
     "output_type": "stream",
     "text": [
      "Autosaving every 60 seconds\n"
     ]
    }
   ],
   "source": [
    "from  HelperFunctions.helper_functions import *\n",
    "# Make cells wider\n",
    "display(HTML(\"<style>.container { width:80% !important; }</style>\"))\n",
    "%autosave 60\n",
    "# Reload models to notebook without restarting kernel\n",
    "# Use once when starting notebook\n",
    "%load_ext autoreload \n",
    "# Use to reload externel modules after changes\n",
    "%autoreload 2 "
   ]
  },
  {
   "cell_type": "markdown",
   "metadata": {},
   "source": [
    "<a id=\"top\"></a>\n",
    "### <a> Table of contents: </a>\n",
    "\n",
    "- [Introduction: ](#Intro)\n",
    "- [TODO: ](#TODO:)\n",
    "- [1. First Chapter](#1.)\n",
    "    - [1.1. sub1 ](#1.1.)\n",
    "    - [1.2. sub2](#1.2.)\n",
    "- [2. Second Chapter](#2.)\n",
    "    - [2.1. sub1](#2.1.)\n",
    "    - [2.2. sub2](#2.2.)    \n",
    "- [Appendix](#Appendix)"
   ]
  },
  {
   "cell_type": "markdown",
   "metadata": {},
   "source": [
    "<a id='Intro'></a>\n",
    "## <a> Introduction: <a>"
   ]
  },
  {
   "cell_type": "markdown",
   "metadata": {},
   "source": [
    "- This a tutorial on how to use this project. It includes both markdown examples to help enjoying jupyter's advantages as well as instructions on how to use this template. \n",
    "- You can view an HTML interactive copy of this notebook via [nbviewer](http://nbviewer.jupyter.org/) using it's link on github.  http://nbviewer.jupyter.org/github/kaplann/Blank_jupyter_project/blob/master/Blank_proj.ipynb#TODO:"
   ]
  },
  {
   "cell_type": "markdown",
   "metadata": {},
   "source": [
    "<a id='#TODO'></a>\n",
    "## <a>  TODO: </a> \n",
    "[back to top](#top)"
   ]
  },
  {
   "cell_type": "markdown",
   "metadata": {},
   "source": [
    "1. Update link on github in introduction. "
   ]
  },
  {
   "cell_type": "code",
   "execution_count": 3,
   "metadata": {
    "collapsed": false
   },
   "outputs": [
    {
     "data": {
      "text/markdown": [
       "<a id=\"1.\"></a>"
      ],
      "text/plain": [
       "<IPython.core.display.Markdown object>"
      ]
     },
     "metadata": {},
     "output_type": "display_data"
    },
    {
     "data": {
      "text/html": [
       "<div style=\"text-align:center;background:#661111;padding:40px;color:#ffffff;font-size:2.5em;\">1. First Chapter </div>"
      ],
      "text/plain": [
       "<IPython.core.display.HTML object>"
      ]
     },
     "metadata": {},
     "output_type": "display_data"
    },
    {
     "data": {
      "text/markdown": [
       "[back to top](#top)"
      ],
      "text/plain": [
       "<IPython.core.display.Markdown object>"
      ]
     },
     "metadata": {},
     "output_type": "display_data"
    }
   ],
   "source": [
    "new_section(content_id='1.', title='1. First Chapter ')"
   ]
  },
  {
   "cell_type": "markdown",
   "metadata": {},
   "source": [
    "<a id='1.1.'></a>\n",
    "### 1.1. \n",
    "[back to top](#top)]"
   ]
  },
  {
   "cell_type": "code",
   "execution_count": 4,
   "metadata": {
    "collapsed": false
   },
   "outputs": [
    {
     "data": {
      "text/html": [
       "<div>\n",
       "<table border=\"1\" class=\"dataframe\">\n",
       "  <thead>\n",
       "    <tr style=\"text-align: right;\">\n",
       "      <th></th>\n",
       "      <th>1</th>\n",
       "      <th>2</th>\n",
       "      <th>3</th>\n",
       "    </tr>\n",
       "  </thead>\n",
       "  <tbody>\n",
       "    <tr>\n",
       "      <th>0</th>\n",
       "      <td>a</td>\n",
       "      <td>b</td>\n",
       "      <td>c</td>\n",
       "    </tr>\n",
       "    <tr>\n",
       "      <th>1</th>\n",
       "      <td>a</td>\n",
       "      <td>g</td>\n",
       "      <td>h</td>\n",
       "    </tr>\n",
       "    <tr>\n",
       "      <th>2</th>\n",
       "      <td>b</td>\n",
       "      <td>b</td>\n",
       "      <td>b</td>\n",
       "    </tr>\n",
       "  </tbody>\n",
       "</table>\n",
       "</div>"
      ],
      "text/plain": [
       "   1  2  3\n",
       "0  a  b  c\n",
       "1  a  g  h\n",
       "2  b  b  b"
      ]
     },
     "metadata": {},
     "output_type": "display_data"
    }
   ],
   "source": [
    "chosenCol = 1\n",
    "df = pd.DataFrame([['a', 'b', 'c'], ['a', 'g', 'h'], ['b', 'b', 'b']], columns=[1, 2, 3,])\n",
    "display(df)"
   ]
  },
  {
   "cell_type": "code",
   "execution_count": 5,
   "metadata": {
    "collapsed": false
   },
   "outputs": [
    {
     "data": {
      "text/html": [
       "<div>\n",
       "<table border=\"1\" class=\"dataframe\">\n",
       "  <thead>\n",
       "    <tr style=\"text-align: right;\">\n",
       "      <th></th>\n",
       "      <th>1</th>\n",
       "      <th>2</th>\n",
       "      <th>3</th>\n",
       "    </tr>\n",
       "  </thead>\n",
       "  <tbody>\n",
       "    <tr>\n",
       "      <th>2</th>\n",
       "      <td>b</td>\n",
       "      <td>b</td>\n",
       "      <td>b</td>\n",
       "    </tr>\n",
       "  </tbody>\n",
       "</table>\n",
       "</div>"
      ],
      "text/plain": [
       "   1  2  3\n",
       "2  b  b  b"
      ]
     },
     "metadata": {},
     "output_type": "display_data"
    }
   ],
   "source": [
    "rowSelector(df, chosenCol)"
   ]
  },
  {
   "cell_type": "markdown",
   "metadata": {},
   "source": [
    "<a id='1.2.'></a>\n",
    "### 1.2. \n",
    "[[back to top](#top)]"
   ]
  },
  {
   "cell_type": "code",
   "execution_count": null,
   "metadata": {
    "collapsed": true
   },
   "outputs": [],
   "source": []
  },
  {
   "cell_type": "code",
   "execution_count": 4,
   "metadata": {
    "collapsed": false
   },
   "outputs": [
    {
     "data": {
      "text/markdown": [
       "<a id=\"2.\"></a>"
      ],
      "text/plain": [
       "<IPython.core.display.Markdown object>"
      ]
     },
     "metadata": {},
     "output_type": "display_data"
    },
    {
     "data": {
      "text/html": [
       "<div style=\"text-align:center;background:#661111;padding:40px;color:#ffffff;font-size:2.5em;\">2. Second Chapter </div>"
      ],
      "text/plain": [
       "<IPython.core.display.HTML object>"
      ]
     },
     "metadata": {},
     "output_type": "display_data"
    },
    {
     "data": {
      "text/markdown": [
       "[back to top](#top)"
      ],
      "text/plain": [
       "<IPython.core.display.Markdown object>"
      ]
     },
     "metadata": {},
     "output_type": "display_data"
    }
   ],
   "source": [
    "new_section(content_id='2.', title='2. Second Chapter ')"
   ]
  },
  {
   "cell_type": "markdown",
   "metadata": {},
   "source": [
    "<a id='2.1.'></a>\n",
    "### 2.1. \n",
    "[[back to top](#top)]"
   ]
  },
  {
   "cell_type": "code",
   "execution_count": 13,
   "metadata": {
    "collapsed": false
   },
   "outputs": [
    {
     "name": "stderr",
     "output_type": "stream",
     "text": [
      "[TerminalIPythonApp] WARNING | Subcommand `ipython nbconvert` is deprecated and will be removed in future versions.\n",
      "[TerminalIPythonApp] WARNING | You likely want to use `jupyter nbconvert` in the future\n",
      "[NbConvertApp] Converting notebook monolith.ipynb to markdown\n",
      "[NbConvertApp] Support files will be in monolith_files\\\n",
      "[NbConvertApp] Making directory monolith_files\n",
      "[NbConvertApp] Writing 2338 bytes to monolith.md\n",
      "'pandoc' is not recognized as an internal or external command,\n",
      "operable program or batch file.\n"
     ]
    }
   ],
   "source": [
    "import io, sys\n",
    "import nbformat\n",
    "# import IPython.nbformat as nb\n",
    "import IPython.nbformat.v4.nbbase as nb4\n",
    " \n",
    "#Are we in a notebook segment?\n",
    "innb=False\n",
    " \n",
    "#Quick and dirty count of notebooks\n",
    "c=1\n",
    " \n",
    "#The monolithic notebook is the content ex of the separate notebook content\n",
    "monolith=nb4.new_notebook()\n",
    " \n",
    "#Load the original doc in\n",
    "mynb=nb.read('Blank Interractive Notebook-API.ipynb',nb.NO_CONVERT)\n",
    " \n",
    "#For each cell in the original doc:\n",
    "for i in mynb['cells']:\n",
    "    if (i['cell_type']=='markdown'):\n",
    "        #See if we can stop a standalone notebook code delimiter\n",
    "        if ('START NOTEBOOK' in i['source']):\n",
    "            #At the start of a block, create a new notebook\n",
    "            innb=True\n",
    "            test=nb4.new_notebook()\n",
    "        elif ('END NOTEBOOK' in i['source']):\n",
    "            #At the end of the block, save the code to a new standalone notebook file\n",
    "            innb=False\n",
    "            nb.write(test,'test{}.ipynb'.format(c))\n",
    "            c=c+1\n",
    "        elif (innb):\n",
    "            test.cells.append(nb4.new_markdown_cell(i['source']))\n",
    "        else:\n",
    "            monolith.cells.append(nb4.new_markdown_cell(i['source']))\n",
    "    elif (i['cell_type']=='code'):\n",
    "        #For the code cells, preserve any output text\n",
    "        cc=nb4.new_code_cell(i['source'])\n",
    "        for o in i['outputs']:\n",
    "            cc['outputs'].append(o)\n",
    "        #Route the code cell as required...\n",
    "        if (innb):\n",
    "            test.cells.append(cc)\n",
    "        else:\n",
    "            monolith.cells.append(cc)\n",
    " \n",
    "#Save the monolithic notebook\n",
    "nb.write(monolith,'monolith.ipynb')\n",
    " \n",
    "#Convert it to markdown\n",
    "!ipython nbconvert --to markdown monolith.ipynb\n",
    " \n",
    "##On a Mac, I got pandoc via:\n",
    "#brew install pandoc\n",
    " \n",
    "#Generate a Microsoft .docx file from the markdown\n",
    "!pandoc -o monolith.docx -f markdown -t docx monolith.md"
   ]
  },
  {
   "cell_type": "code",
   "execution_count": null,
   "metadata": {
    "collapsed": true
   },
   "outputs": [],
   "source": []
  },
  {
   "cell_type": "markdown",
   "metadata": {},
   "source": [
    "<a id='2.2.'></a>\n",
    "### 2.2. \n",
    "[[back to top](#top)]"
   ]
  },
  {
   "cell_type": "code",
   "execution_count": null,
   "metadata": {
    "collapsed": true
   },
   "outputs": [],
   "source": []
  },
  {
   "cell_type": "markdown",
   "metadata": {},
   "source": [
    "<a id='Appendix'></a>\n",
    "## Appendix\n",
    "[[back to top](#top)]"
   ]
  },
  {
   "cell_type": "markdown",
   "metadata": {},
   "source": []
  },
  {
   "cell_type": "markdown",
   "metadata": {},
   "source": [
    "- Great tutorials: \n",
    " - 1) \n",
    " - 2) \n",
    "- Refferences: \n",
    " - 1) \n",
    "- Resources: \n",
    " - \n",
    " - "
   ]
  },
  {
   "cell_type": "markdown",
   "metadata": {},
   "source": [
    "[[back to top](#top)]"
   ]
  }
 ],
 "metadata": {
  "anaconda-cloud": {},
  "kernelspec": {
   "display_name": "Python [default]",
   "language": "python",
   "name": "python3"
  },
  "language_info": {
   "codemirror_mode": {
    "name": "ipython",
    "version": 3
   },
   "file_extension": ".py",
   "mimetype": "text/x-python",
   "name": "python",
   "nbconvert_exporter": "python",
   "pygments_lexer": "ipython3",
   "version": "3.5.2"
  },
  "widgets": {
   "state": {
    "ad08002433fd4e6fb96cacb282994f26": {
     "views": [
      {
       "cell_index": 11
      }
     ]
    }
   },
   "version": "1.2.0"
  }
 },
 "nbformat": 4,
 "nbformat_minor": 0
}
